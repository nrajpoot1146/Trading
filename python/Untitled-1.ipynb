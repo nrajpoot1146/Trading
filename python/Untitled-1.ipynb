{
 "cells": [
  {
   "cell_type": "code",
   "execution_count": 6,
   "metadata": {},
   "outputs": [
    {
     "name": "stdout",
     "output_type": "stream",
     "text": [
      "{'count': 22, 'result': [{'description': 'Nifty 50', 'displaySymbol': '^NSEI', 'symbol': '^NSEI', 'type': 'Indice'}, {'description': 'KOTAK NIFTY 50', 'displaySymbol': 'KOTAKNIFTY.NS', 'symbol': 'KOTAKNIFTY.NS', 'type': 'ETP'}, {'description': 'IDFC NIFTY ETF', 'displaySymbol': 'IDFNIFTYET.NS', 'symbol': 'IDFNIFTYET.NS', 'type': 'ETP'}, {'description': 'TATA NIFTY ETF', 'displaySymbol': 'NETF.NS', 'symbol': 'NETF.NS', 'type': 'ETP'}, {'description': 'X NIFTY 50 SWAP', 'displaySymbol': 'DBX7.DE', 'symbol': 'DBX7.DE', 'type': 'ETP'}, {'description': 'X NIFTY 50 SWAP', 'displaySymbol': 'XNIF.SW', 'symbol': 'XNIF.SW', 'type': 'ETP'}, {'description': 'X NIFTY 50 SWAP', 'displaySymbol': 'XNIFCHF.SW', 'symbol': 'XNIFCHF.SW', 'type': 'ETP'}, {'description': 'FUBON NIFTY ETF', 'displaySymbol': '00652.TW', 'symbol': '00652.TW', 'type': 'ETP'}, {'description': 'X NIFTY 50 SWAP', 'displaySymbol': 'XNIF.SG', 'symbol': 'XNIF.SG', 'type': 'ETP'}, {'description': 'X NIFTY 50 SWAP', 'displaySymbol': 'XNIF.F', 'symbol': 'XNIF.F', 'type': 'ETP'}, {'description': 'X NIFTY 50 SWAP', 'displaySymbol': 'XNIF.MI', 'symbol': 'XNIF.MI', 'type': 'ETP'}, {'description': 'X NIFTY 50 SWAP', 'displaySymbol': 'XNID.L', 'symbol': 'XNID.L', 'type': 'ETP'}, {'description': 'X NIFTY 50 SWAP', 'displaySymbol': 'XNIF.L', 'symbol': 'XNIF.L', 'type': 'ETP'}, {'description': 'KSM ETF NIFTY 50', 'displaySymbol': 'KSMF181.TA', 'symbol': 'KSMF181.TA', 'type': 'ETP'}, {'description': 'SBI-ETF NIFTY 50', 'displaySymbol': 'SETFNIF50.NS', 'symbol': 'SETFNIF50.NS', 'type': 'ETP'}, {'description': 'UTI NIFTY 50 ETF', 'displaySymbol': 'UTINIFTETF.NS', 'symbol': 'UTINIFTETF.NS', 'type': 'ETP'}, {'description': 'DSP NIFTY 50 ETF', 'displaySymbol': 'DSPN50ETF.NS', 'symbol': 'DSPN50ETF.NS', 'type': 'ETP'}, {'description': 'AXIS NIFTY IT ET', 'displaySymbol': 'AXISTECETF.NS', 'symbol': 'AXISTECETF.NS', 'type': 'ETP'}, {'description': 'HDFC NIFTY 50 ETF', 'displaySymbol': 'HDFCNIFETF.NS', 'symbol': 'HDFCNIFETF.NS', 'type': 'ETP'}, {'description': 'AXIS NIFTY 50 ETF', 'displaySymbol': 'AXISNIFTY.NS', 'symbol': 'AXISNIFTY.NS', 'type': 'ETP'}, {'description': 'HDFC NIFTY IT ETF', 'displaySymbol': 'HDFCNIFIT.NS', 'symbol': 'HDFCNIFIT.NS', 'type': 'ETP'}, {'description': 'UTI NIFTY BANK ETF', 'displaySymbol': 'UTIBANKETF.NS', 'symbol': 'UTIBANKETF.NS', 'type': 'ETP'}]}\n"
     ]
    },
    {
     "ename": "",
     "evalue": "",
     "output_type": "error",
     "traceback": [
      "\u001b[1;31mThe Kernel crashed while executing code in the the current cell or a previous cell. Please review the code in the cell(s) to identify a possible cause of the failure. Click <a href='https://aka.ms/vscodeJupyterKernelCrash'>here</a> for more info. View Jupyter <a href='command:jupyter.viewOutput'>log</a> for further details."
     ]
    }
   ],
   "source": [
    "import finnhub\n",
    "finnhub_client = finnhub.Client(api_key=\"cf4ogg2ad3i7dbfht0ogcf4ogg2ad3i7dbfht0p0\")\n",
    "\n",
    "print(finnhub_client.symbol_lookup('Nifty'))"
   ]
  },
  {
   "cell_type": "code",
   "execution_count": null,
   "metadata": {},
   "outputs": [],
   "source": []
  }
 ],
 "metadata": {
  "kernelspec": {
   "display_name": "Python 3",
   "language": "python",
   "name": "python3"
  },
  "language_info": {
   "codemirror_mode": {
    "name": "ipython",
    "version": 3
   },
   "file_extension": ".py",
   "mimetype": "text/x-python",
   "name": "python",
   "nbconvert_exporter": "python",
   "pygments_lexer": "ipython3",
   "version": "3.10.9"
  },
  "orig_nbformat": 4,
  "vscode": {
   "interpreter": {
    "hash": "5f0a9dd79c6229cc8c07343f1eeda475d6d54847a14749dea78e5a6584b23d22"
   }
  }
 },
 "nbformat": 4,
 "nbformat_minor": 2
}

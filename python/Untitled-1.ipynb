{
 "cells": [
  {
   "cell_type": "code",
   "execution_count": null,
   "metadata": {},
   "outputs": [],
   "source": [
    "import finnhub\n",
    "finnhub_client = finnhub.Client(api_key=\"cf4ogg2ad3i7dbfht0ogcf4ogg2ad3i7dbfht0p0\")\n",
    "\n",
    "print(finnhub_client.symbol_lookup('Nifty'))"
   ]
  },
  {
   "cell_type": "code",
   "execution_count": null,
   "metadata": {},
   "outputs": [],
   "source": []
  }
 ],
 "metadata": {
  "kernelspec": {
   "display_name": "Python 3",
   "language": "python",
   "name": "python3"
  },
  "language_info": {
   "codemirror_mode": {
    "name": "ipython",
    "version": 3
   },
   "file_extension": ".py",
   "mimetype": "text/x-python",
   "name": "python",
   "nbconvert_exporter": "python",
   "pygments_lexer": "ipython3",
   "version": "3.10.10"
  },
  "orig_nbformat": 4,
  "vscode": {
   "interpreter": {
    "hash": "5f0a9dd79c6229cc8c07343f1eeda475d6d54847a14749dea78e5a6584b23d22"
   }
  }
 },
 "nbformat": 4,
 "nbformat_minor": 2
}

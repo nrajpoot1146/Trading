{
 "cells": [
  {
   "cell_type": "code",
   "execution_count": 2,
   "metadata": {},
   "outputs": [],
   "source": [
    "# package import statement\n",
    "from smartapi import SmartConnect #or from smartapi.smartConnect import SmartConnect\n",
    "#import smartapi.smartExceptions(for smartExceptions)\n",
    "\n",
    "apiKey = \"l5g7IX0d\"\n",
    "clientCode = \"N491170\"\n",
    "password = \"1273\"\n",
    "\n",
    "#create object of call\n",
    "obj=SmartConnect(api_key=\"l5g7IX0d\",\n",
    "                #optional\n",
    "                #access_token = \"your access token\",\n",
    "                #refresh_token = \"your refresh_token\"\n",
    "                )\n"
   ]
  },
  {
   "cell_type": "code",
   "execution_count": 3,
   "metadata": {},
   "outputs": [],
   "source": [
    "#login api call\n",
    "totp = input(\"Enter TOTP: \")\n",
    "\n",
    "data = obj.generateSession(clientCode, password, totp)\n",
    "refreshToken= data['data']['refreshToken']\n",
    "\n",
    "#fetch the feedtoken\n",
    "feedToken=obj.getfeedToken()\n",
    "\n",
    "#fetch User Profile\n",
    "userProfile= obj.getProfile(refreshToken)"
   ]
  },
  {
   "cell_type": "code",
   "execution_count": null,
   "metadata": {},
   "outputs": [],
   "source": [
    "\n",
    "from smartapi import SmartWebSocket\n",
    "import os\n",
    "\n",
    "# feed_token=092017047\n",
    "FEED_TOKEN=feedToken\n",
    "CLIENT_CODE=clientCode\n",
    "# token=\"mcx_fo|224395\"\n",
    "token=\"mcx_fo|246083\"    #SAMPLE: nse_cm|2885&nse_cm|1594&nse_cm|11536&nse_cm|3045\n",
    "# token=\"mcx_fo|226745&mcx_fo|220822&mcx_fo|227182&mcx_fo|221599\"\n",
    "task=\"mw\"   # mw|sfi|dp\n",
    "\n",
    "ss = SmartWebSocket(FEED_TOKEN, CLIENT_CODE)\n",
    "\n",
    "def on_message(ws, message):\n",
    "    os.system(\"cls\")\n",
    "    print(\"Ticks: {}\".format(message))\n",
    "    \n",
    "def on_open(ws):\n",
    "    print(\"on open\")\n",
    "    ss.subscribe(task,token)\n",
    "    \n",
    "def on_error(ws, error):\n",
    "    print(error)\n",
    "    \n",
    "def on_close(ws):\n",
    "    print(\"Close\")\n",
    "\n",
    "# Assign the callbacks.\n",
    "ss._on_open = on_open\n",
    "ss._on_message = on_message\n",
    "ss._on_error = on_error\n",
    "ss._on_close = on_close\n",
    "\n",
    "ss.connect()"
   ]
  },
  {
   "cell_type": "code",
   "execution_count": 5,
   "metadata": {},
   "outputs": [
    {
     "name": "stdout",
     "output_type": "stream",
     "text": [
      "Logout Successfull\n"
     ]
    },
    {
     "name": "stdout",
     "output_type": "stream",
     "text": [
      "2023-01-30 18:36:43.004993 : Start task in the background\n",
      "{'task': 'hb', 'channel': '', 'token': '0842485864', 'user': 'N491170', 'acctid': 'N491170'}\n",
      "HeartBeat Sending Failed\n"
     ]
    }
   ],
   "source": [
    "#logout\n",
    "try:\n",
    "    logout=obj.terminateSession(clientCode)\n",
    "    print(\"Logout Successfull\")\n",
    "except Exception as e:\n",
    "    print(\"Logout failed: {}\".format(e.message))"
   ]
  },
  {
   "cell_type": "code",
   "execution_count": 1,
   "metadata": {},
   "outputs": [],
   "source": [
    "import json\n",
    "import requests\n",
    "r = requests.get(r'https://margincalculator.angelbroking.com/OpenAPI_File/files/OpenAPIScripMaster.json')\n",
    "js = r.json()"
   ]
  },
  {
   "cell_type": "code",
   "execution_count": 5,
   "metadata": {},
   "outputs": [
    {
     "data": {
      "text/plain": [
       "[{'token': 'CRUDEOIL',\n",
       "  'symbol': 'CRUDEOIL',\n",
       "  'name': 'CRUDEOIL',\n",
       "  'expiry': '',\n",
       "  'strike': '-1.000000',\n",
       "  'lotsize': '1',\n",
       "  'instrumenttype': 'COMDTY',\n",
       "  'exch_seg': 'NCDEX',\n",
       "  'tick_size': '1.000000'}]"
      ]
     },
     "execution_count": 5,
     "metadata": {},
     "output_type": "execute_result"
    }
   ],
   "source": [
    "[jo for jo in js if jo['name'] == jo['symbol'] and jo['exch_seg'] and jo['name'] == 'CRUDEOIL']\n",
    "# data = [jo for jo in js if jo['name'] == 'NIFTY' and jo['instrumenttype'] == 'OPTIDX']\n",
    "# # for d in data:\n",
    "# #     print(d['strike'])\n",
    "# data.sort(key =lambda  x: x['strike'])\n",
    "# data\n",
    "# for d in data:\n",
    "#     print(d['strike'])"
   ]
  },
  {
   "cell_type": "code",
   "execution_count": 17,
   "metadata": {},
   "outputs": [
    {
     "ename": "",
     "evalue": "",
     "output_type": "error",
     "traceback": [
      "\u001b[1;31mThe Kernel crashed while executing code in the the current cell or a previous cell. Please review the code in the cell(s) to identify a possible cause of the failure. Click <a href='https://aka.ms/vscodeJupyterKernelCrash'>here</a> for more info. View Jupyter <a href='command:jupyter.viewOutput'>log</a> for further details."
     ]
    }
   ],
   "source": [
    "from abc import ABC, abstractmethod\n",
    "\n",
    "class pl(ABC):\n",
    "    @abstractmethod\n",
    "    def tr():\n",
    "        pass\n",
    "\n",
    "class df(pl):\n",
    "    def tr():\n",
    "        pass\n",
    "    pass\n",
    "\n",
    "g:df = df()"
   ]
  },
  {
   "cell_type": "code",
   "execution_count": 1,
   "metadata": {},
   "outputs": [],
   "source": [
    "import sys\n",
    "from PyQt6.QtCore import QObject, pyqtSignal\n",
    "from PyQt6.QtWidgets import QApplication, QTextEdit\n",
    "\n",
    "class ConsoleWidget(QTextEdit):\n",
    "    def __init__(self):\n",
    "        super().__init__()\n",
    "        self.setReadOnly(True)\n",
    "\n",
    "class Stream(QObject):\n",
    "    newText = pyqtSignal(str)\n",
    "\n",
    "    def write(self, text):\n",
    "        self.newText.emit(str(text))\n",
    "\n",
    "app = QApplication(sys.argv)\n",
    "\n",
    "console = ConsoleWidget()\n",
    "\n",
    "sys.stdout = Stream(newText=console.append)\n",
    "sys.stderr = sys.stdout\n",
    "\n",
    "\n",
    "\n",
    "# Add console to your application's main window or dialog here...\n",
    "\n",
    "app.exec_()\n",
    "# In this code, we first create a custom ConsoleWidget class that inherits from QTextEdit and sets itself to read-only. Then, we create a custom Stream class that emits a signal `\n",
    "\n"
   ]
  },
  {
   "cell_type": "code",
   "execution_count": 1,
   "metadata": {},
   "outputs": [
    {
     "ename": "",
     "evalue": "",
     "output_type": "error",
     "traceback": [
      "\u001b[1;31mCanceled future for execute_request message before replies were done"
     ]
    },
    {
     "ename": "",
     "evalue": "",
     "output_type": "error",
     "traceback": [
      "\u001b[1;31mThe Kernel crashed while executing code in the the current cell or a previous cell. Please review the code in the cell(s) to identify a possible cause of the failure. Click <a href='https://aka.ms/vscodeJupyterKernelCrash'>here</a> for more info. View Jupyter <a href='command:jupyter.viewOutput'>log</a> for further details."
     ]
    }
   ],
   "source": [
    "import sys\n",
    "from PyQt6.QtCore import QObject, pyqtSignal\n",
    "from PyQt6.QtWidgets import QApplication, QTextEdit, QMainWindow, QTextBrowser, QVBoxLayout, QWidget\n",
    "\n",
    "class ConsoleWidget(QTextEdit):\n",
    "    def __init__(self):\n",
    "        super().__init__()\n",
    "        self.setReadOnly(True)\n",
    "\n",
    "class Stream(QObject):\n",
    "    newText = pyqtSignal(str)\n",
    "\n",
    "    def write(self, text):\n",
    "        self.newText.emit(str(text))\n",
    "\n",
    "class MainWindow(QMainWindow):\n",
    "    def __init__(self):\n",
    "        super().__init__()\n",
    "        self.console = ConsoleWidget()\n",
    "        self.setCentralWidget(self.console)\n",
    "\n",
    "app = QApplication(sys.argv)\n",
    "mainWindow = MainWindow()\n",
    "mainWindow.show()\n",
    "sys.stdout = Stream(newText=mainWindow.console.append)\n",
    "sys.stderr = sys.stdout\n",
    "app.exec_()"
   ]
  },
  {
   "cell_type": "code",
   "execution_count": 31,
   "metadata": {},
   "outputs": [
    {
     "name": "stdout",
     "output_type": "stream",
     "text": [
      "eeee\n"
     ]
    }
   ],
   "source": [
    "import threading\n",
    "from typing import Any, Callable, Iterable\n",
    "\n",
    "class WorkerThread(threading.Thread):\n",
    "\n",
    "    def __init__(self, target: Callable[..., object] | None = ..., args: Iterable[Any] = ...):\n",
    "        threading.Thread.__init__(self)\n",
    "        self.target = target\n",
    "        self.args = args\n",
    "        # self.threadList = threadList\n",
    "        # self.threadList.append(self)\n",
    "\n",
    "    def run(self):\n",
    "        self.target(self.args)\n",
    "        # self.target(self.args[0], self.args[1])\n",
    "        pass\n",
    "        # self.threadList.remove(self)\n",
    "\n",
    "def heloo(x, y):\n",
    "    print('eeee')\n",
    "WorkerThread(heloo, args=[1,2]).start()"
   ]
  },
  {
   "cell_type": "code",
   "execution_count": null,
   "metadata": {},
   "outputs": [],
   "source": []
  }
 ],
 "metadata": {
  "kernelspec": {
   "display_name": "Python 3",
   "language": "python",
   "name": "python3"
  },
  "language_info": {
   "codemirror_mode": {
    "name": "ipython",
    "version": 3
   },
   "file_extension": ".py",
   "mimetype": "text/x-python",
   "name": "python",
   "nbconvert_exporter": "python",
   "pygments_lexer": "ipython3",
   "version": "3.10.10"
  },
  "orig_nbformat": 4,
  "vscode": {
   "interpreter": {
    "hash": "5f0a9dd79c6229cc8c07343f1eeda475d6d54847a14749dea78e5a6584b23d22"
   }
  }
 },
 "nbformat": 4,
 "nbformat_minor": 2
}
